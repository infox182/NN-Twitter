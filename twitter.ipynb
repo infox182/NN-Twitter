{
 "cells": [
  {
   "cell_type": "code",
   "execution_count": 1,
   "metadata": {},
   "outputs": [],
   "source": [
    "import pandas as pd\n",
    "from sklearn.feature_extraction.text import TfidfVectorizer\n",
    "from sklearn.feature_selection import chi2\n",
    "import numpy as np\n",
    "import io\n",
    "from sklearn.model_selection import train_test_split\n",
    "from sklearn.feature_extraction.text import CountVectorizer\n",
    "from sklearn.feature_extraction.text import TfidfTransformer\n",
    "from sklearn.ensemble import RandomForestClassifier\n",
    "from sklearn.naive_bayes import MultinomialNB\n",
    "from sklearn.svm import SVC\n",
    "import matplotlib\n",
    "import matplotlib.pyplot as plt"
   ]
  },
  {
   "cell_type": "markdown",
   "metadata": {},
   "source": [
    "Читаем наш Excel-файл, убираем ненужные столбцы.\n",
    "\n",
    "Также убираем строчки, в которых вместо класса стоит IRR (их там всего ничего)."
   ]
  },
  {
   "cell_type": "code",
   "execution_count": 2,
   "metadata": {},
   "outputs": [],
   "source": [
    "birulevo_df = pd.read_excel('data/birulevo sentiment coded.xlsx')\n",
    "\n",
    "birulevo_df.drop(index=0, inplace = True)\n",
    "birulevo_df.drop(columns=['Unnamed: 3', 'Unnamed: 4', 'Unnamed: 5'], inplace = True)\n",
    "\n",
    "irr_indices = birulevo_df[ birulevo_df[\"SENTIMENT\"] == \"IRR\"].index\n",
    "birulevo_df.drop(irr_indices, inplace=True)\n",
    "birulevo_df.reset_index(drop=True, inplace=True)"
   ]
  },
  {
   "cell_type": "markdown",
   "metadata": {},
   "source": [
    "Скопируем наши данные в нетронутом виде для дальнейшего сравнения."
   ]
  },
  {
   "cell_type": "code",
   "execution_count": 3,
   "metadata": {},
   "outputs": [],
   "source": [
    "birulevo_df_untouched = birulevo_df.copy()"
   ]
  },
  {
   "cell_type": "code",
   "execution_count": 4,
   "metadata": {},
   "outputs": [
    {
     "data": {
      "text/html": [
       "<div>\n",
       "<style scoped>\n",
       "    .dataframe tbody tr th:only-of-type {\n",
       "        vertical-align: middle;\n",
       "    }\n",
       "\n",
       "    .dataframe tbody tr th {\n",
       "        vertical-align: top;\n",
       "    }\n",
       "\n",
       "    .dataframe thead th {\n",
       "        text-align: right;\n",
       "    }\n",
       "</style>\n",
       "<table border=\"1\" class=\"dataframe\">\n",
       "  <thead>\n",
       "    <tr style=\"text-align: right;\">\n",
       "      <th></th>\n",
       "      <th>user</th>\n",
       "      <th>tweet</th>\n",
       "      <th>SENTIMENT</th>\n",
       "    </tr>\n",
       "  </thead>\n",
       "  <tbody>\n",
       "    <tr>\n",
       "      <th>count</th>\n",
       "      <td>1884</td>\n",
       "      <td>1884</td>\n",
       "      <td>1884</td>\n",
       "    </tr>\n",
       "    <tr>\n",
       "      <th>unique</th>\n",
       "      <td>46</td>\n",
       "      <td>1793</td>\n",
       "      <td>3</td>\n",
       "    </tr>\n",
       "    <tr>\n",
       "      <th>top</th>\n",
       "      <td>mynameisphilipp</td>\n",
       "      <td>#мвд объяснило драку мигрантов на северо-восто...</td>\n",
       "      <td>3</td>\n",
       "    </tr>\n",
       "    <tr>\n",
       "      <th>freq</th>\n",
       "      <td>101</td>\n",
       "      <td>2</td>\n",
       "      <td>952</td>\n",
       "    </tr>\n",
       "  </tbody>\n",
       "</table>\n",
       "</div>"
      ],
      "text/plain": [
       "                   user                                              tweet  \\\n",
       "count              1884                                               1884   \n",
       "unique               46                                               1793   \n",
       "top     mynameisphilipp  #мвд объяснило драку мигрантов на северо-восто...   \n",
       "freq                101                                                  2   \n",
       "\n",
       "        SENTIMENT  \n",
       "count        1884  \n",
       "unique          3  \n",
       "top             3  \n",
       "freq          952  "
      ]
     },
     "execution_count": 4,
     "metadata": {},
     "output_type": "execute_result"
    }
   ],
   "source": [
    "birulevo_df.describe()"
   ]
  },
  {
   "cell_type": "markdown",
   "metadata": {},
   "source": [
    "Видно что некоторые твиты дублируются и их тоже лучше почистить."
   ]
  },
  {
   "cell_type": "code",
   "execution_count": 5,
   "metadata": {},
   "outputs": [
    {
     "data": {
      "text/html": [
       "<div>\n",
       "<style scoped>\n",
       "    .dataframe tbody tr th:only-of-type {\n",
       "        vertical-align: middle;\n",
       "    }\n",
       "\n",
       "    .dataframe tbody tr th {\n",
       "        vertical-align: top;\n",
       "    }\n",
       "\n",
       "    .dataframe thead th {\n",
       "        text-align: right;\n",
       "    }\n",
       "</style>\n",
       "<table border=\"1\" class=\"dataframe\">\n",
       "  <thead>\n",
       "    <tr style=\"text-align: right;\">\n",
       "      <th></th>\n",
       "      <th>user</th>\n",
       "      <th>tweet</th>\n",
       "      <th>SENTIMENT</th>\n",
       "    </tr>\n",
       "  </thead>\n",
       "  <tbody>\n",
       "    <tr>\n",
       "      <th>count</th>\n",
       "      <td>1793</td>\n",
       "      <td>1793</td>\n",
       "      <td>1793</td>\n",
       "    </tr>\n",
       "    <tr>\n",
       "      <th>unique</th>\n",
       "      <td>46</td>\n",
       "      <td>1793</td>\n",
       "      <td>3</td>\n",
       "    </tr>\n",
       "    <tr>\n",
       "      <th>top</th>\n",
       "      <td>lifenews_ru</td>\n",
       "      <td>#бирюлево #россия наилучшая тактика:не призыва...</td>\n",
       "      <td>3</td>\n",
       "    </tr>\n",
       "    <tr>\n",
       "      <th>freq</th>\n",
       "      <td>101</td>\n",
       "      <td>1</td>\n",
       "      <td>912</td>\n",
       "    </tr>\n",
       "  </tbody>\n",
       "</table>\n",
       "</div>"
      ],
      "text/plain": [
       "               user                                              tweet  \\\n",
       "count          1793                                               1793   \n",
       "unique           46                                               1793   \n",
       "top     lifenews_ru  #бирюлево #россия наилучшая тактика:не призыва...   \n",
       "freq            101                                                  1   \n",
       "\n",
       "        SENTIMENT  \n",
       "count        1793  \n",
       "unique          3  \n",
       "top             3  \n",
       "freq          912  "
      ]
     },
     "execution_count": 5,
     "metadata": {},
     "output_type": "execute_result"
    }
   ],
   "source": [
    "birulevo_df.drop_duplicates(subset =\"tweet\", inplace = True)\n",
    "birulevo_df.describe()"
   ]
  },
  {
   "cell_type": "markdown",
   "metadata": {},
   "source": [
    "Обрабатываем текст. В том числе отделим знаки препинания \"!\" и \".\" так как они указывают на эмоциональную составляющую твита."
   ]
  },
  {
   "cell_type": "code",
   "execution_count": 6,
   "metadata": {},
   "outputs": [],
   "source": [
    "birulevo_df[\"tweet\"] = birulevo_df[\"tweet\"].str.lower()\n",
    "birulevo_df[\"tweet\"] = birulevo_df[\"tweet\"].str.replace('\\S+/\\S+|@\\S+|-|,|:|\\'|\\\"|”|“|;|1|2|3|4|5|6|7|8|9|0|\\(|\\)', ' ')\n",
    "birulevo_df[\"tweet\"] = birulevo_df[\"tweet\"].str.replace(' \\S\\S | \\S ', ' ')\n",
    "birulevo_df[\"tweet\"] = birulevo_df[\"tweet\"].str.replace('!', ' !')\n",
    "birulevo_df[\"tweet\"] = birulevo_df[\"tweet\"].str.replace('.', ' .')"
   ]
  },
  {
   "cell_type": "markdown",
   "metadata": {},
   "source": [
    "Создадим третью выборку для проверки влияния хештегов."
   ]
  },
  {
   "cell_type": "code",
   "execution_count": 7,
   "metadata": {},
   "outputs": [],
   "source": [
    "birulevo_df_hashtag = birulevo_df.copy()"
   ]
  },
  {
   "cell_type": "code",
   "execution_count": 8,
   "metadata": {},
   "outputs": [],
   "source": [
    "birulevo_df[\"tweet\"] = birulevo_df[\"tweet\"].str.replace('#', '')\n",
    "birulevo_df_hashtag[\"tweet\"] = birulevo_df_hashtag[\"tweet\"].str.replace('#\\S+', '')"
   ]
  },
  {
   "cell_type": "markdown",
   "metadata": {},
   "source": [
    "Обучим три классификатора из sklearn на разных данных и посмотрим что выйдет."
   ]
  },
  {
   "cell_type": "code",
   "execution_count": 9,
   "metadata": {},
   "outputs": [],
   "source": [
    "tfidf_transformer = TfidfTransformer()\n",
    "count_vect = CountVectorizer()\n",
    "\n",
    "X_train, X_test, y_train, y_test = train_test_split(birulevo_df['tweet'], birulevo_df['SENTIMENT'], random_state = 0)\n",
    "\n",
    "y_train = y_train.astype('int')\n",
    "y_test = y_test.astype('int')\n",
    "\n",
    "X_train_counts = count_vect.fit_transform(X_train)\n",
    "X_train_tfidf = tfidf_transformer.fit_transform(X_train_counts)\n",
    "\n",
    "X_test_counts = count_vect.transform(X_test)\n",
    "X_test_tfidf = tfidf_transformer.transform(X_test_counts)"
   ]
  },
  {
   "cell_type": "code",
   "execution_count": 10,
   "metadata": {},
   "outputs": [],
   "source": [
    "rf_clf = RandomForestClassifier().fit(X_train_tfidf, y_train)\n",
    "rf1 = rf_clf.score(X_test_tfidf, y_test)"
   ]
  },
  {
   "cell_type": "code",
   "execution_count": 11,
   "metadata": {},
   "outputs": [],
   "source": [
    "nb_clf = MultinomialNB().fit(X_train_tfidf, y_train)\n",
    "nb1 =nb_clf.score(X_test_tfidf, y_test)"
   ]
  },
  {
   "cell_type": "code",
   "execution_count": 12,
   "metadata": {},
   "outputs": [],
   "source": [
    "sv_clf = SVC().fit(X_train_tfidf, y_train)\n",
    "sv1 = sv_clf.score(X_test_tfidf, y_test)"
   ]
  },
  {
   "cell_type": "code",
   "execution_count": 13,
   "metadata": {},
   "outputs": [],
   "source": [
    "tfidf_transformer2 = TfidfTransformer()\n",
    "count_vect2 = CountVectorizer()\n",
    "\n",
    "X_train2, X_test2, y_train2, y_test2 = train_test_split(birulevo_df_untouched['tweet'], birulevo_df_untouched['SENTIMENT'], random_state = 0)\n",
    "\n",
    "y_train2 = y_train2.astype('int')\n",
    "y_test2 = y_test2.astype('int')\n",
    "\n",
    "X_train_counts2 = count_vect2.fit_transform(X_train2)\n",
    "X_train_tfidf2 = tfidf_transformer2.fit_transform(X_train_counts2)\n",
    "\n",
    "X_test_counts2 = count_vect2.transform(X_test2)\n",
    "X_test_tfidf2 = tfidf_transformer2.transform(X_test_counts2)"
   ]
  },
  {
   "cell_type": "code",
   "execution_count": 14,
   "metadata": {},
   "outputs": [],
   "source": [
    "rf_clf2 = RandomForestClassifier().fit(X_train_tfidf2, y_train2)\n",
    "rf2 = rf_clf2.score(X_test_tfidf2, y_test2)"
   ]
  },
  {
   "cell_type": "code",
   "execution_count": 15,
   "metadata": {},
   "outputs": [],
   "source": [
    "nb_clf2 = MultinomialNB().fit(X_train_tfidf2, y_train2)\n",
    "nb2 = nb_clf2.score(X_test_tfidf2, y_test2)"
   ]
  },
  {
   "cell_type": "code",
   "execution_count": 16,
   "metadata": {},
   "outputs": [],
   "source": [
    "sv_clf2 = SVC().fit(X_train_tfidf2, y_train2)\n",
    "sv2 = sv_clf2.score(X_test_tfidf2, y_test2)"
   ]
  },
  {
   "cell_type": "code",
   "execution_count": 17,
   "metadata": {},
   "outputs": [],
   "source": [
    "tfidf_transformer3 = TfidfTransformer()\n",
    "count_vect3 = CountVectorizer()\n",
    "\n",
    "X_train3, X_test3, y_train3, y_test3 = train_test_split(birulevo_df_hashtag['tweet'], birulevo_df_hashtag['SENTIMENT'], random_state = 0)\n",
    "\n",
    "y_train3 = y_train3.astype('int')\n",
    "y_test3 = y_test3.astype('int')\n",
    "\n",
    "X_train_counts3 = count_vect3.fit_transform(X_train3)\n",
    "X_train_tfidf3 = tfidf_transformer3.fit_transform(X_train_counts3)\n",
    "\n",
    "X_test_counts3 = count_vect3.transform(X_test3)\n",
    "X_test_tfidf3 = tfidf_transformer3.transform(X_test_counts3)"
   ]
  },
  {
   "cell_type": "code",
   "execution_count": 18,
   "metadata": {},
   "outputs": [],
   "source": [
    "rf_clf3 = RandomForestClassifier().fit(X_train_tfidf3, y_train3)\n",
    "rf3 = rf_clf3.score(X_test_tfidf3, y_test3)"
   ]
  },
  {
   "cell_type": "code",
   "execution_count": 19,
   "metadata": {},
   "outputs": [],
   "source": [
    "nb_clf3 = MultinomialNB().fit(X_train_tfidf3, y_train3)\n",
    "nb3 = nb_clf3.score(X_test_tfidf3, y_test3)"
   ]
  },
  {
   "cell_type": "code",
   "execution_count": 20,
   "metadata": {},
   "outputs": [],
   "source": [
    "sv_clf3 = SVC().fit(X_train_tfidf3, y_train3)\n",
    "sv3 = sv_clf3.score(X_test_tfidf3, y_test3)"
   ]
  },
  {
   "cell_type": "markdown",
   "metadata": {},
   "source": [
    "Построим график для сравнения результатов."
   ]
  },
  {
   "cell_type": "code",
   "execution_count": 22,
   "metadata": {},
   "outputs": [
    {
     "data": {
      "image/png": "[encoded data removed]",
      "text/plain": [
       "<Figure size 432x288 with 1 Axes>"
      ]
     },
     "metadata": {
      "needs_background": "light"
     },
     "output_type": "display_data"
    }
   ],
   "source": [
    "labels = ['rf', 'nb', 'svm']\n",
    "hashtags = [rf1, nb1, sv1]\n",
    "raw = [rf2, nb2, sv2]\n",
    "no_hashtags = [rf3, nb3, sv3]\n",
    "\n",
    "x = np.arange(len(labels))\n",
    "width = 0.2\n",
    "\n",
    "fig, ax = plt.subplots()\n",
    "rects1 = ax.bar(x - width, raw, width, label='Raw')\n",
    "rects2 = ax.bar(x, hashtags, width, label='With hashtags')\n",
    "rects3 = ax.bar(x + width, no_hashtags, width, label='No hashtags')\n",
    "\n",
    "ax.set_ylabel('Acc')\n",
    "ax.set_xticks(x)\n",
    "ax.set_xticklabels(labels)\n",
    "ax.legend()\n",
    "\n",
    "def autolabel(rects):\n",
    "    \"\"\"Attach a text label above each bar in *rects*, displaying its height.\"\"\"\n",
    "    for rect in rects:\n",
    "        height = rect.get_height()\n",
    "        ax.annotate('{}'.format(int(height*100)),\n",
    "                    xy=(rect.get_x() + rect.get_width() / 2, height),\n",
    "                    xytext=(0, 3),  # 3 points vertical offset\n",
    "                    textcoords=\"offset points\",\n",
    "                    ha='center', va='bottom')\n",
    "\n",
    "\n",
    "autolabel(rects1)\n",
    "autolabel(rects2)\n",
    "autolabel(rects3)\n",
    "\n",
    "fig.tight_layout()\n",
    "plt.ylim(0, 1)\n",
    "\n",
    "plt.show()"
   ]
  }
 ],
 "metadata": {
  "kernelspec": {
   "display_name": "Python 3",
   "language": "python",
   "name": "python3"
  },
  "language_info": {
   "codemirror_mode": {
    "name": "ipython",
    "version": 3
   },
   "file_extension": ".py",
   "mimetype": "text/x-python",
   "name": "python",
   "nbconvert_exporter": "python",
   "pygments_lexer": "ipython3",
   "version": "3.7.3"
  }
 },
 "nbformat": 4,
 "nbformat_minor": 4
}
